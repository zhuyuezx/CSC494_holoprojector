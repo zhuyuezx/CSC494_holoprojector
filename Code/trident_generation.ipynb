{
 "cells": [
  {
   "cell_type": "code",
   "execution_count": 1,
   "metadata": {},
   "outputs": [],
   "source": [
    "import numpy as np\n",
    "import matplotlib.pyplot as plt\n",
    "import cv2 as cv"
   ]
  },
  {
   "cell_type": "code",
   "execution_count": 39,
   "metadata": {},
   "outputs": [],
   "source": [
    "bmp_dir = '../DMD_inputs/tridents'"
   ]
  },
  {
   "cell_type": "code",
   "execution_count": 8,
   "metadata": {},
   "outputs": [],
   "source": [
    "def draw_vert_strip(img: np.ndarray, x: int, grayscale: float, width = 16):\n",
    "    img[:, x - width // 2:x + width // 2] = grayscale"
   ]
  },
  {
   "cell_type": "code",
   "execution_count": 21,
   "metadata": {},
   "outputs": [],
   "source": [
    "def trident_1d(ws: list[int], a1: float = 1, a2: float = 1, shape: tuple[int, int] = (1600, 2716)) -> list[np.ndarray]:\n",
    "    imgs = []\n",
    "    h, w = shape\n",
    "    for u in ws:\n",
    "        img = np.zeros(shape)\n",
    "        draw_vert_strip(img, w // 2, a1)\n",
    "        draw_vert_strip(img, w // 2 - (u + 1) * 16, a2)\n",
    "        draw_vert_strip(img, w // 2 + (u + 1) * 16, a2)\n",
    "        imgs.append(img)\n",
    "    return imgs"
   ]
  },
  {
   "cell_type": "code",
   "execution_count": 30,
   "metadata": {},
   "outputs": [],
   "source": [
    "def draw_ring(inner: int, outer: int, a2: float = 1, img_shape: tuple = (1600, 2716)) -> np.ndarray:\n",
    "    ring = np.zeros((img_shape[0], img_shape[1]), dtype=np.uint8)\n",
    "    # white large circle\n",
    "    ring = cv.circle(ring, (ring.shape[1]//2, ring.shape[0]//2), outer, a2, -1)\n",
    "    # black small circle\n",
    "    ring = cv.circle(ring, (ring.shape[1]//2, ring.shape[0]//2), inner, 0, -1)\n",
    "    return ring\n",
    "\n",
    "def trident_2d(ws: list[int], a1: float = 1, a2: float = 1, shape: tuple[int, int] = (1600, 2716)) -> list[np.ndarray]:\n",
    "    imgs = []\n",
    "    h, w = shape\n",
    "    for u in ws:\n",
    "        img = draw_ring(16 * (u + 1), 16 * (u + 2), a2)\n",
    "        img = cv.circle(img, (w // 2, h // 2), 16, a1, -1)\n",
    "        imgs.append(img)\n",
    "    return imgs"
   ]
  },
  {
   "cell_type": "code",
   "execution_count": 41,
   "metadata": {},
   "outputs": [],
   "source": [
    "test = trident_1d(range(1,6))"
   ]
  },
  {
   "cell_type": "code",
   "execution_count": 44,
   "metadata": {},
   "outputs": [],
   "source": [
    "for i in range(1, 6):\n",
    "    test[i - 1] = cv.normalize(test[i - 1], None, 0, 255, cv.NORM_MINMAX, cv.CV_8U)\n",
    "    cv.imwrite(f'{bmp_dir}/trident_1d_{i}.bmp', test[i-1])"
   ]
  },
  {
   "cell_type": "code",
   "execution_count": 45,
   "metadata": {},
   "outputs": [
    {
     "data": {
      "text/plain": [
       "<matplotlib.image.AxesImage at 0x2c7c1e810>"
      ]
     },
     "execution_count": 45,
     "metadata": {},
     "output_type": "execute_result"
    },
    {
     "data": {
      "image/png": "[encoded data removed]",
      "text/plain": [
       "<Figure size 640x480 with 1 Axes>"
      ]
     },
     "metadata": {},
     "output_type": "display_data"
    }
   ],
   "source": [
    "test = trident_2d(range(1,6))\n",
    "plt.imshow(test[0], cmap='gray')"
   ]
  },
  {
   "cell_type": "code",
   "execution_count": 46,
   "metadata": {},
   "outputs": [],
   "source": [
    "for i in range(1, 6):\n",
    "    test[i - 1] = cv.normalize(test[i - 1], None, 0, 255, cv.NORM_MINMAX, cv.CV_8U)\n",
    "    cv.imwrite(f'{bmp_dir}/trident_2d_{i}.bmp', test[i-1])"
   ]
  }
 ],
 "metadata": {
  "kernelspec": {
   "display_name": "base",
   "language": "python",
   "name": "python3"
  },
  "language_info": {
   "codemirror_mode": {
    "name": "ipython",
    "version": 3
   },
   "file_extension": ".py",
   "mimetype": "text/x-python",
   "name": "python",
   "nbconvert_exporter": "python",
   "pygments_lexer": "ipython3",
   "version": "3.11.7"
  }
 },
 "nbformat": 4,
 "nbformat_minor": 2
}
