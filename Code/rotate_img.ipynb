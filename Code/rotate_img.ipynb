{
 "cells": [
  {
   "cell_type": "code",
   "execution_count": 15,
   "metadata": {},
   "outputs": [],
   "source": [
    "import numpy as np \n",
    "import matplotlib.pyplot as plt\n",
    "import cv2 as cv"
   ]
  },
  {
   "cell_type": "code",
   "execution_count": 3,
   "metadata": {},
   "outputs": [],
   "source": [
    "bmp_dir = '../DMD_inputs/'\n",
    "target_img = '678_Block.bmp'"
   ]
  },
  {
   "cell_type": "code",
   "execution_count": 4,
   "metadata": {},
   "outputs": [
    {
     "data": {
      "text/plain": [
       "<matplotlib.image.AxesImage at 0x7fb98e128580>"
      ]
     },
     "execution_count": 4,
     "metadata": {},
     "output_type": "execute_result"
    },
    {
     "data": {
      "image/png": "[encoded data removed]",
      "text/plain": [
       "<Figure size 640x480 with 1 Axes>"
      ]
     },
     "metadata": {},
     "output_type": "display_data"
    }
   ],
   "source": [
    "img = cv.imread(bmp_dir + target_img, cv.IMREAD_GRAYSCALE)\n",
    "plt.imshow(img, cmap='gray')"
   ]
  },
  {
   "cell_type": "code",
   "execution_count": 5,
   "metadata": {},
   "outputs": [
    {
     "name": "stdout",
     "output_type": "stream",
     "text": [
      "255\n"
     ]
    }
   ],
   "source": [
    "for angle in range(0, 360, 30):\n",
    "    M = cv.getRotationMatrix2D((img.shape[1]/2, img.shape[0]/2), angle, 1)\n",
    "    rotated_img = cv.warpAffine(img, M, (img.shape[1], img.shape[0]))\n",
    "    # white to black\n",
    "    if angle == 0: print(np.max(rotated_img))\n",
    "    rotated_img = 255 - rotated_img\n",
    "    # save the rotated image\n",
    "    cv.imwrite(bmp_dir + 'rotated_' + str(angle) + '_' + target_img, rotated_img)"
   ]
  },
  {
   "cell_type": "code",
   "execution_count": 6,
   "metadata": {},
   "outputs": [
    {
     "data": {
      "text/plain": [
       "True"
      ]
     },
     "execution_count": 6,
     "metadata": {},
     "output_type": "execute_result"
    },
    {
     "data": {
      "image/png": "[encoded data removed]",
      "text/plain": [
       "<Figure size 640x480 with 1 Axes>"
      ]
     },
     "metadata": {},
     "output_type": "display_data"
    }
   ],
   "source": [
    "# crate a rectange in the center of the image\n",
    "w, h = 400, 200\n",
    "# empty image first \n",
    "rect = np.zeros((img.shape[0], img.shape[1]), dtype=np.uint8)\n",
    "center_x = rect.shape[1] // 2\n",
    "center_y = rect.shape[0] // 2\n",
    "rect = cv.rectangle(rect, (center_x - w//2, center_y - h//2), (center_x + w//2, center_y + h//2), 255, -1)\n",
    "plt.imshow(rect, cmap='gray')\n",
    "cv.imwrite(bmp_dir + 'rect.bmp', rect)\n",
    "# opposite version\n",
    "rect = 255 - rect\n",
    "cv.imwrite(bmp_dir + 'rect_opposite.bmp', rect)"
   ]
  },
  {
   "cell_type": "code",
   "execution_count": 7,
   "metadata": {},
   "outputs": [
    {
     "data": {
      "text/plain": [
       "True"
      ]
     },
     "execution_count": 7,
     "metadata": {},
     "output_type": "execute_result"
    }
   ],
   "source": [
    "# pure black and white image\n",
    "black = np.zeros((img.shape[0], img.shape[1], 3), dtype=np.uint8)\n",
    "white = 255 - black\n",
    "cv.imwrite(bmp_dir + 'black.bmp', black)\n",
    "cv.imwrite(bmp_dir + 'white.bmp', white)"
   ]
  },
  {
   "cell_type": "code",
   "execution_count": 8,
   "metadata": {},
   "outputs": [
    {
     "data": {
      "text/plain": [
       "True"
      ]
     },
     "execution_count": 8,
     "metadata": {},
     "output_type": "execute_result"
    }
   ],
   "source": [
    "single_pixel_wide = np.zeros((img.shape[0], img.shape[1]), dtype=np.uint8)\n",
    "# one pixel wide line in the center\n",
    "single_pixel_wide[img.shape[0]//2, :] = 255\n",
    "\n",
    "cv.imwrite(bmp_dir + 'line_1px.bmp', single_pixel_wide)"
   ]
  },
  {
   "cell_type": "code",
   "execution_count": 9,
   "metadata": {},
   "outputs": [
    {
     "data": {
      "text/plain": [
       "True"
      ]
     },
     "execution_count": 9,
     "metadata": {},
     "output_type": "execute_result"
    }
   ],
   "source": [
    "# two pixel wide line in the center\n",
    "two_pixel_wide = np.zeros((img.shape[0], img.shape[1]), dtype=np.uint8)\n",
    "two_pixel_wide[img.shape[0]//2, :] = 255\n",
    "two_pixel_wide[img.shape[0]//2 + 1, :] = 255\n",
    "\n",
    "cv.imwrite(bmp_dir + 'line_2px.bmp', two_pixel_wide)"
   ]
  },
  {
   "cell_type": "code",
   "execution_count": 10,
   "metadata": {},
   "outputs": [
    {
     "data": {
      "text/plain": [
       "True"
      ]
     },
     "execution_count": 10,
     "metadata": {},
     "output_type": "execute_result"
    }
   ],
   "source": [
    "# four pixel wide line in the center\n",
    "four_pixel_wide = np.zeros((img.shape[0], img.shape[1]), dtype=np.uint8)\n",
    "four_pixel_wide[img.shape[0] // 2 - 1: img.shape[0] // 2 + 3, :] = 255\n",
    "\n",
    "cv.imwrite(bmp_dir + 'line_4px.bmp', four_pixel_wide)"
   ]
  },
  {
   "cell_type": "code",
   "execution_count": 11,
   "metadata": {},
   "outputs": [
    {
     "data": {
      "text/plain": [
       "True"
      ]
     },
     "execution_count": 11,
     "metadata": {},
     "output_type": "execute_result"
    }
   ],
   "source": [
    "# eight pixel wide line in the center\n",
    "eight_pixel_wide = np.zeros((img.shape[0], img.shape[1]), dtype=np.uint8)\n",
    "eight_pixel_wide[img.shape[0] // 2 - 3: img.shape[0] // 2 + 5, :] = 255\n",
    "\n",
    "cv.imwrite(bmp_dir + 'line_8px.bmp', eight_pixel_wide)"
   ]
  },
  {
   "cell_type": "code",
   "execution_count": 12,
   "metadata": {},
   "outputs": [
    {
     "data": {
      "text/plain": [
       "True"
      ]
     },
     "execution_count": 12,
     "metadata": {},
     "output_type": "execute_result"
    }
   ],
   "source": [
    "# sixteen pixel wide line in the center\n",
    "sixteen_pixel_wide = np.zeros((img.shape[0], img.shape[1]), dtype=np.uint8)\n",
    "sixteen_pixel_wide[img.shape[0] // 2 - 7: img.shape[0] // 2 + 9, :] = 255\n",
    "\n",
    "cv.imwrite(bmp_dir + 'line_16px.bmp', sixteen_pixel_wide)"
   ]
  },
  {
   "cell_type": "code",
   "execution_count": 16,
   "metadata": {},
   "outputs": [
    {
     "data": {
      "text/plain": [
       "True"
      ]
     },
     "execution_count": 16,
     "metadata": {},
     "output_type": "execute_result"
    }
   ],
   "source": [
    "# thirty two wide line in the center\n",
    "thirty_two_pixel_wide = np.zeros((img.shape[0], img.shape[1]), dtype=np.uint8)\n",
    "thirty_two_pixel_wide[img.shape[0] // 2 - 15: img.shape[0] // 2 + 17, :] = 255\n",
    "\n",
    "cv.imwrite(bmp_dir + 'line_32px.bmp', thirty_two_pixel_wide)"
   ]
  },
  {
   "cell_type": "code",
   "execution_count": 14,
   "metadata": {},
   "outputs": [
    {
     "data": {
      "text/plain": [
       "True"
      ]
     },
     "execution_count": 14,
     "metadata": {},
     "output_type": "execute_result"
    }
   ],
   "source": [
    "# half black half white\n",
    "half_half = np.zeros((img.shape[0], img.shape[1]), dtype=np.uint8)\n",
    "half_half[: img.shape[0]//2, :] = 255\n",
    "\n",
    "cv.imwrite(bmp_dir + 'half_half.bmp', half_half)"
   ]
  }
 ],
 "metadata": {
  "kernelspec": {
   "display_name": "csc311",
   "language": "python",
   "name": "python3"
  },
  "language_info": {
   "codemirror_mode": {
    "name": "ipython",
    "version": 3
   },
   "file_extension": ".py",
   "mimetype": "text/x-python",
   "name": "python",
   "nbconvert_exporter": "python",
   "pygments_lexer": "ipython3",
   "version": "3.11.7"
  }
 },
 "nbformat": 4,
 "nbformat_minor": 2
}
