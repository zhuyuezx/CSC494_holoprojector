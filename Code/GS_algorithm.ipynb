{
  "cells": [
    {
      "cell_type": "markdown",
      "metadata": {
        "id": "Xh4N5nD0-kw2"
      },
      "source": [
        "# Gerchberg-Saxton (GS) Algorithm for Holocurtain\n",
        "\n",
        "### [Link to the paper](https://imaging.cs.cmu.edu/holocurtains/#home)\n",
        "\n",
        "![GS algorithm in holocurtain paper](imgs/GS_paper.jpg)"
      ]
    },
    {
      "cell_type": "markdown",
      "metadata": {},
      "source": [
        "## GS Algorithm Implementation"
      ]
    },
    {
      "cell_type": "code",
      "execution_count": 1,
      "metadata": {},
      "outputs": [],
      "source": [
        "import numpy as np\n",
        "import numpy.fft as F\n",
        "import matplotlib.pyplot as plt\n",
        "import PIL.Image as Image\n",
        "import requests"
      ]
    },
    {
      "cell_type": "code",
      "execution_count": 2,
      "metadata": {
        "id": "DhK3OAIk-lap"
      },
      "outputs": [],
      "source": [
        "# step1: Random Init for 2D binary image\n",
        "def random_init(w: int, h: int) -> np.ndarray:\n",
        "    return np.random.randint(0, 2, (w, h))\n",
        "\n",
        "# plt.imshow(random_init(10, 10), cmap='gray')"
      ]
    },
    {
      "cell_type": "code",
      "execution_count": 28,
      "metadata": {},
      "outputs": [],
      "source": [
        "def normalize_img(img: np.ndarray) -> np.ndarray:\n",
        "    return (img - img.min()) / (img.max() - img.min())"
      ]
    },
    {
      "cell_type": "code",
      "execution_count": 4,
      "metadata": {},
      "outputs": [],
      "source": [
        "def GS(target: np.ndarray, iter: int = 10, abr: np.ndarray = None) -> np.ndarray:\n",
        "    h, w = target.shape\n",
        "    # step1: Random Init for 2D binary image\n",
        "    u = np.random.rand(h, w) >= 0.5\n",
        "    u = u.astype(np.complex_)\n",
        "    if abr is None:\n",
        "        abr = np.ones_like(target)\n",
        "    for _ in range(iter):\n",
        "        # step2: Forward Propagation\n",
        "        u = F.fft2(u * abr)\n",
        "        u = F.fftshift(u)\n",
        "        # step3: Amplitude Constraint\n",
        "        u = np.sqrt(target) * np.exp(1j * np.angle(u))\n",
        "        # step4: Backward Propagation\n",
        "        u = F.ifftshift(u)\n",
        "        u = F.ifft2(u)\n",
        "        # step5: Binary Constraint\n",
        "        u = np.real(u) >= 0\n",
        "        u = u.astype(np.complex_)\n",
        "\n",
        "    return u"
      ]
    },
    {
      "cell_type": "markdown",
      "metadata": {},
      "source": [
        "## Define Evaluation Metrics\n",
        "* **PSNR**: Peak Signal-to-Noise Ratio\n",
        "* **SSIM**: Structural Similarity Index\n",
        "* **NRMSE**: Normalized Root Mean Squared Error"
      ]
    },
    {
      "cell_type": "code",
      "execution_count": 34,
      "metadata": {},
      "outputs": [],
      "source": [
        "def PSNR(target: np.ndarray, cmp: np.ndarray) -> float:\n",
        "    mse = np.mean((target - cmp) ** 2)\n",
        "    return 10 * np.log10(255 ** 2 / mse)\n",
        "\n",
        "def SSIM(target: np.ndarray, cmp: np.ndarray) -> float:\n",
        "    mu_x = np.mean(target)\n",
        "    mu_y = np.mean(cmp)\n",
        "    var_x = np.var(target)\n",
        "    var_y = np.var(cmp)\n",
        "    cov_xy = np.mean(target * cmp) - mu_x * mu_y\n",
        "    c1 = (0.01 * 255) ** 2\n",
        "    c2 = (0.03 * 255) ** 2\n",
        "    return (2 * mu_x * mu_y + c1) * (2 * cov_xy + c2) / ((mu_x ** 2 + mu_y ** 2 + c1) * (var_x + var_y + c2))\n",
        "\n",
        "def NRMSE(target: np.ndarray, cmp: np.ndarray) -> float:\n",
        "    return np.sqrt(np.mean((target - cmp) ** 2)) / (target.max() - target.min())"
      ]
    },
    {
      "cell_type": "code",
      "execution_count": 37,
      "metadata": {},
      "outputs": [],
      "source": [
        "def show_metrics(target: np.ndarray, cmp: np.ndarray) -> None:\n",
        "    target = normalize_img(target)\n",
        "    cmp = normalize_img(cmp)\n",
        "    print(f'PSNR: {PSNR(target, cmp):.2f}dB')\n",
        "    print(f'SSIM: {SSIM(target, cmp):.2f}')\n",
        "    print(f'NRMSE: {NRMSE(target, cmp):.2f}')"
      ]
    },
    {
      "cell_type": "markdown",
      "metadata": {},
      "source": [
        "## Testing on 2D Images"
      ]
    },
    {
      "cell_type": "code",
      "execution_count": 27,
      "metadata": {},
      "outputs": [
        {
          "data": {
            "text/plain": [
              "<matplotlib.image.AxesImage at 0x1220ff590>"
            ]
          },
          "execution_count": 27,
          "metadata": {},
          "output_type": "execute_result"
        },
        {
          "data": {
            "image/png": "[encoded data removed]",
            "text/plain": [
              "<Figure size 640x480 with 1 Axes>"
            ]
          },
          "metadata": {},
          "output_type": "display_data"
        }
      ],
      "source": [
        "try:\n",
        "    img = np.array(Image.open('imgs/target_pixelized.bmp'))\n",
        "except FileNotFoundError:\n",
        "    img = np.array(Image.open(requests.get('https://raw.githubusercontent.com/zhuyuezx/CSC494_holoprojector/main/Code/imgs/target_pixelized.bmp', stream=True).raw))\n",
        "img = img / 255.\n",
        "plt.imshow(img, cmap='gray')"
      ]
    },
    {
      "cell_type": "code",
      "execution_count": 7,
      "metadata": {},
      "outputs": [
        {
          "data": {
            "text/plain": [
              "<matplotlib.image.AxesImage at 0x11144a7d0>"
            ]
          },
          "execution_count": 7,
          "metadata": {},
          "output_type": "execute_result"
        },
        {
          "data": {
            "image/png": "[encoded data removed]",
            "text/plain": [
              "<Figure size 640x480 with 1 Axes>"
            ]
          },
          "metadata": {},
          "output_type": "display_data"
        }
      ],
      "source": [
        "# Basic setting where there's no abrration\n",
        "ret = GS(img, 1000)\n",
        "# see the final result for step 5\n",
        "plt.imshow(ret.real, cmap='gray')"
      ]
    },
    {
      "cell_type": "code",
      "execution_count": 8,
      "metadata": {},
      "outputs": [
        {
          "data": {
            "text/plain": [
              "<matplotlib.image.AxesImage at 0x1114d0850>"
            ]
          },
          "execution_count": 8,
          "metadata": {},
          "output_type": "execute_result"
        },
        {
          "data": {
            "image/png": "[encoded data removed]",
            "text/plain": [
              "<Figure size 640x480 with 1 Axes>"
            ]
          },
          "metadata": {},
          "output_type": "display_data"
        }
      ],
      "source": [
        "# See the final result for step 3\n",
        "to_plot = np.fft.fft2(ret)\n",
        "to_plot[0, 0] = 0\n",
        "to_plot = normalize_img(np.abs(to_plot))\n",
        "to_plot[0, 0] = to_plot.max()\n",
        "to_plot = np.fft.fftshift(to_plot)\n",
        "plt.imshow(np.abs(to_plot), cmap='gray')"
      ]
    },
    {
      "cell_type": "code",
      "execution_count": 23,
      "metadata": {},
      "outputs": [
        {
          "data": {
            "text/plain": [
              "<matplotlib.image.AxesImage at 0x122098cd0>"
            ]
          },
          "execution_count": 23,
          "metadata": {},
          "output_type": "execute_result"
        },
        {
          "data": {
            "image/png": "[encoded data removed]",
            "text/plain": [
              "<Figure size 640x480 with 1 Axes>"
            ]
          },
          "metadata": {},
          "output_type": "display_data"
        }
      ],
      "source": [
        "# See the final result for step 4\n",
        "to_plot2 = np.fft.fft2(ret)\n",
        "to_plot2 = np.sqrt(img) * np.exp(1j * np.angle(to_plot2))\n",
        "plt.imshow(np.abs(to_plot2), cmap='gray')"
      ]
    },
    {
      "cell_type": "code",
      "execution_count": 38,
      "metadata": {},
      "outputs": [
        {
          "name": "stdout",
          "output_type": "stream",
          "text": [
            "PSNR: 51.36dB\n",
            "SSIM: 0.97\n",
            "NRMSE: 0.69\n"
          ]
        }
      ],
      "source": [
        "show_metrics(img, np.abs(ret) ** 2)"
      ]
    }
  ],
  "metadata": {
    "colab": {
      "provenance": []
    },
    "kernelspec": {
      "display_name": "Python 3",
      "name": "python3"
    },
    "language_info": {
      "codemirror_mode": {
        "name": "ipython",
        "version": 3
      },
      "file_extension": ".py",
      "mimetype": "text/x-python",
      "name": "python",
      "nbconvert_exporter": "python",
      "pygments_lexer": "ipython3",
      "version": "3.11.4"
    }
  },
  "nbformat": 4,
  "nbformat_minor": 0
}
